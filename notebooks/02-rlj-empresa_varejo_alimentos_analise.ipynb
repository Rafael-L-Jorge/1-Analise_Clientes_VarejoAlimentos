{
 "cells": [
  {
   "cell_type": "code",
   "execution_count": 1,
   "id": "3191c864-4059-4045-85c1-a19aeeebc60a",
   "metadata": {},
   "outputs": [],
   "source": [
    "import matplotlib.pyplot as plt\n",
    "import pandas as pd\n",
    "from scipy.stats import shapiro, levene, mannwhitneyu\n",
    "import numpy as np\n",
    "import seaborn as sns\n",
    "\n",
    "#funções desenvolvidas para o projeto\n",
    "from src.funcoes_projeto1 import (\n",
    "    composicao_histograma_boxplot,\n",
    "    analise_levene, \n",
    "    analise_mannwhitneyu,\n",
    "    analise_shapiro\n",
    ")"
   ]
  },
  {
   "cell_type": "code",
   "execution_count": 2,
   "id": "14c156e7-60ba-4b22-b91b-36ccb0e43708",
   "metadata": {},
   "outputs": [
    {
     "data": {
      "text/html": [
       "<div>\n",
       "<style scoped>\n",
       "    .dataframe tbody tr th:only-of-type {\n",
       "        vertical-align: middle;\n",
       "    }\n",
       "\n",
       "    .dataframe tbody tr th {\n",
       "        vertical-align: top;\n",
       "    }\n",
       "\n",
       "    .dataframe thead th {\n",
       "        text-align: right;\n",
       "    }\n",
       "</style>\n",
       "<table border=\"1\" class=\"dataframe\">\n",
       "  <thead>\n",
       "    <tr style=\"text-align: right;\">\n",
       "      <th></th>\n",
       "      <th>renda</th>\n",
       "      <th>num_criancas_em_casa</th>\n",
       "      <th>num_adolescentes_em_casa</th>\n",
       "      <th>recencia</th>\n",
       "      <th>gasto_vinhos</th>\n",
       "      <th>gasto_frutas</th>\n",
       "      <th>gasto_carnes</th>\n",
       "      <th>gasto_peixes</th>\n",
       "      <th>gasto_doces</th>\n",
       "      <th>gasto_produtos_ouro</th>\n",
       "      <th>num_compras_com_desconto</th>\n",
       "      <th>num_compras_site</th>\n",
       "      <th>num_compras_catalogo</th>\n",
       "      <th>num_compras_loja</th>\n",
       "      <th>num_visitas_site_mes</th>\n",
       "      <th>aceitou_campanha_3</th>\n",
       "      <th>aceitou_campanha_4</th>\n",
       "      <th>aceitou_campanha_5</th>\n",
       "      <th>aceitou_campanha_1</th>\n",
       "      <th>aceitou_campanha_2</th>\n",
       "      <th>reclamacao_registrada</th>\n",
       "      <th>custo_contato</th>\n",
       "      <th>receita</th>\n",
       "      <th>respondeu_ultima_campanha</th>\n",
       "      <th>idade</th>\n",
       "      <th>dias_como_cliente</th>\n",
       "      <th>gasto_total</th>\n",
       "      <th>gasto_produtos_regulares</th>\n",
       "      <th>total_campanhas_aceitas</th>\n",
       "      <th>num_filhos_em_casa</th>\n",
       "      <th>despesas</th>\n",
       "      <th>booleano.marital_Divorced</th>\n",
       "      <th>booleano.marital_Married</th>\n",
       "      <th>booleano.marital_Single</th>\n",
       "      <th>booleano.marital_Together</th>\n",
       "      <th>booleano.marital_Widow</th>\n",
       "      <th>booleano.education_2n Cycle</th>\n",
       "      <th>booleano.education_Basic</th>\n",
       "      <th>booleano.education_Graduation</th>\n",
       "      <th>booleano.education_Master</th>\n",
       "      <th>booleano.education_PhD</th>\n",
       "      <th>estado_civil(t)</th>\n",
       "      <th>nivel_escolaridade(t)</th>\n",
       "      <th>tem_filhos</th>\n",
       "    </tr>\n",
       "  </thead>\n",
       "  <tbody>\n",
       "    <tr>\n",
       "      <th>0</th>\n",
       "      <td>58138.0</td>\n",
       "      <td>0</td>\n",
       "      <td>0</td>\n",
       "      <td>58</td>\n",
       "      <td>635</td>\n",
       "      <td>88</td>\n",
       "      <td>546</td>\n",
       "      <td>172</td>\n",
       "      <td>88</td>\n",
       "      <td>88</td>\n",
       "      <td>3</td>\n",
       "      <td>8</td>\n",
       "      <td>10</td>\n",
       "      <td>4</td>\n",
       "      <td>7</td>\n",
       "      <td>0</td>\n",
       "      <td>0</td>\n",
       "      <td>0</td>\n",
       "      <td>0</td>\n",
       "      <td>0</td>\n",
       "      <td>0</td>\n",
       "      <td>3</td>\n",
       "      <td>11</td>\n",
       "      <td>1</td>\n",
       "      <td>63</td>\n",
       "      <td>2822</td>\n",
       "      <td>1529</td>\n",
       "      <td>1441</td>\n",
       "      <td>0</td>\n",
       "      <td>0</td>\n",
       "      <td>1529</td>\n",
       "      <td>0</td>\n",
       "      <td>0</td>\n",
       "      <td>1</td>\n",
       "      <td>0</td>\n",
       "      <td>0</td>\n",
       "      <td>0</td>\n",
       "      <td>0</td>\n",
       "      <td>1</td>\n",
       "      <td>0</td>\n",
       "      <td>0</td>\n",
       "      <td>Solteiro(a)</td>\n",
       "      <td>Graduacao</td>\n",
       "      <td>0</td>\n",
       "    </tr>\n",
       "    <tr>\n",
       "      <th>1</th>\n",
       "      <td>46344.0</td>\n",
       "      <td>1</td>\n",
       "      <td>1</td>\n",
       "      <td>38</td>\n",
       "      <td>11</td>\n",
       "      <td>1</td>\n",
       "      <td>6</td>\n",
       "      <td>2</td>\n",
       "      <td>1</td>\n",
       "      <td>6</td>\n",
       "      <td>2</td>\n",
       "      <td>1</td>\n",
       "      <td>1</td>\n",
       "      <td>2</td>\n",
       "      <td>5</td>\n",
       "      <td>0</td>\n",
       "      <td>0</td>\n",
       "      <td>0</td>\n",
       "      <td>0</td>\n",
       "      <td>0</td>\n",
       "      <td>0</td>\n",
       "      <td>3</td>\n",
       "      <td>11</td>\n",
       "      <td>0</td>\n",
       "      <td>66</td>\n",
       "      <td>2272</td>\n",
       "      <td>21</td>\n",
       "      <td>15</td>\n",
       "      <td>0</td>\n",
       "      <td>2</td>\n",
       "      <td>21</td>\n",
       "      <td>0</td>\n",
       "      <td>0</td>\n",
       "      <td>1</td>\n",
       "      <td>0</td>\n",
       "      <td>0</td>\n",
       "      <td>0</td>\n",
       "      <td>0</td>\n",
       "      <td>1</td>\n",
       "      <td>0</td>\n",
       "      <td>0</td>\n",
       "      <td>Solteiro(a)</td>\n",
       "      <td>Graduacao</td>\n",
       "      <td>1</td>\n",
       "    </tr>\n",
       "    <tr>\n",
       "      <th>2</th>\n",
       "      <td>71613.0</td>\n",
       "      <td>0</td>\n",
       "      <td>0</td>\n",
       "      <td>26</td>\n",
       "      <td>426</td>\n",
       "      <td>49</td>\n",
       "      <td>127</td>\n",
       "      <td>111</td>\n",
       "      <td>21</td>\n",
       "      <td>42</td>\n",
       "      <td>1</td>\n",
       "      <td>8</td>\n",
       "      <td>2</td>\n",
       "      <td>10</td>\n",
       "      <td>4</td>\n",
       "      <td>0</td>\n",
       "      <td>0</td>\n",
       "      <td>0</td>\n",
       "      <td>0</td>\n",
       "      <td>0</td>\n",
       "      <td>0</td>\n",
       "      <td>3</td>\n",
       "      <td>11</td>\n",
       "      <td>0</td>\n",
       "      <td>55</td>\n",
       "      <td>2471</td>\n",
       "      <td>734</td>\n",
       "      <td>692</td>\n",
       "      <td>0</td>\n",
       "      <td>0</td>\n",
       "      <td>734</td>\n",
       "      <td>0</td>\n",
       "      <td>0</td>\n",
       "      <td>0</td>\n",
       "      <td>1</td>\n",
       "      <td>0</td>\n",
       "      <td>0</td>\n",
       "      <td>0</td>\n",
       "      <td>1</td>\n",
       "      <td>0</td>\n",
       "      <td>0</td>\n",
       "      <td>Uniao estavel</td>\n",
       "      <td>Graduacao</td>\n",
       "      <td>0</td>\n",
       "    </tr>\n",
       "    <tr>\n",
       "      <th>3</th>\n",
       "      <td>26646.0</td>\n",
       "      <td>1</td>\n",
       "      <td>0</td>\n",
       "      <td>26</td>\n",
       "      <td>11</td>\n",
       "      <td>4</td>\n",
       "      <td>20</td>\n",
       "      <td>10</td>\n",
       "      <td>3</td>\n",
       "      <td>5</td>\n",
       "      <td>2</td>\n",
       "      <td>2</td>\n",
       "      <td>0</td>\n",
       "      <td>4</td>\n",
       "      <td>6</td>\n",
       "      <td>0</td>\n",
       "      <td>0</td>\n",
       "      <td>0</td>\n",
       "      <td>0</td>\n",
       "      <td>0</td>\n",
       "      <td>0</td>\n",
       "      <td>3</td>\n",
       "      <td>11</td>\n",
       "      <td>0</td>\n",
       "      <td>36</td>\n",
       "      <td>2298</td>\n",
       "      <td>48</td>\n",
       "      <td>43</td>\n",
       "      <td>0</td>\n",
       "      <td>1</td>\n",
       "      <td>48</td>\n",
       "      <td>0</td>\n",
       "      <td>0</td>\n",
       "      <td>0</td>\n",
       "      <td>1</td>\n",
       "      <td>0</td>\n",
       "      <td>0</td>\n",
       "      <td>0</td>\n",
       "      <td>1</td>\n",
       "      <td>0</td>\n",
       "      <td>0</td>\n",
       "      <td>Uniao estavel</td>\n",
       "      <td>Graduacao</td>\n",
       "      <td>1</td>\n",
       "    </tr>\n",
       "    <tr>\n",
       "      <th>4</th>\n",
       "      <td>58293.0</td>\n",
       "      <td>1</td>\n",
       "      <td>0</td>\n",
       "      <td>94</td>\n",
       "      <td>173</td>\n",
       "      <td>43</td>\n",
       "      <td>118</td>\n",
       "      <td>46</td>\n",
       "      <td>27</td>\n",
       "      <td>15</td>\n",
       "      <td>5</td>\n",
       "      <td>5</td>\n",
       "      <td>3</td>\n",
       "      <td>6</td>\n",
       "      <td>5</td>\n",
       "      <td>0</td>\n",
       "      <td>0</td>\n",
       "      <td>0</td>\n",
       "      <td>0</td>\n",
       "      <td>0</td>\n",
       "      <td>0</td>\n",
       "      <td>3</td>\n",
       "      <td>11</td>\n",
       "      <td>0</td>\n",
       "      <td>39</td>\n",
       "      <td>2320</td>\n",
       "      <td>407</td>\n",
       "      <td>392</td>\n",
       "      <td>0</td>\n",
       "      <td>1</td>\n",
       "      <td>407</td>\n",
       "      <td>0</td>\n",
       "      <td>1</td>\n",
       "      <td>0</td>\n",
       "      <td>0</td>\n",
       "      <td>0</td>\n",
       "      <td>0</td>\n",
       "      <td>0</td>\n",
       "      <td>0</td>\n",
       "      <td>0</td>\n",
       "      <td>1</td>\n",
       "      <td>Casado(a)</td>\n",
       "      <td>Doutorado</td>\n",
       "      <td>1</td>\n",
       "    </tr>\n",
       "  </tbody>\n",
       "</table>\n",
       "</div>"
      ],
      "text/plain": [
       "     renda  num_criancas_em_casa  num_adolescentes_em_casa  recencia  \\\n",
       "0  58138.0                     0                         0        58   \n",
       "1  46344.0                     1                         1        38   \n",
       "2  71613.0                     0                         0        26   \n",
       "3  26646.0                     1                         0        26   \n",
       "4  58293.0                     1                         0        94   \n",
       "\n",
       "   gasto_vinhos  gasto_frutas  gasto_carnes  gasto_peixes  gasto_doces  \\\n",
       "0           635            88           546           172           88   \n",
       "1            11             1             6             2            1   \n",
       "2           426            49           127           111           21   \n",
       "3            11             4            20            10            3   \n",
       "4           173            43           118            46           27   \n",
       "\n",
       "   gasto_produtos_ouro  num_compras_com_desconto  num_compras_site  \\\n",
       "0                   88                         3                 8   \n",
       "1                    6                         2                 1   \n",
       "2                   42                         1                 8   \n",
       "3                    5                         2                 2   \n",
       "4                   15                         5                 5   \n",
       "\n",
       "   num_compras_catalogo  num_compras_loja  num_visitas_site_mes  \\\n",
       "0                    10                 4                     7   \n",
       "1                     1                 2                     5   \n",
       "2                     2                10                     4   \n",
       "3                     0                 4                     6   \n",
       "4                     3                 6                     5   \n",
       "\n",
       "   aceitou_campanha_3  aceitou_campanha_4  aceitou_campanha_5  \\\n",
       "0                   0                   0                   0   \n",
       "1                   0                   0                   0   \n",
       "2                   0                   0                   0   \n",
       "3                   0                   0                   0   \n",
       "4                   0                   0                   0   \n",
       "\n",
       "   aceitou_campanha_1  aceitou_campanha_2  reclamacao_registrada  \\\n",
       "0                   0                   0                      0   \n",
       "1                   0                   0                      0   \n",
       "2                   0                   0                      0   \n",
       "3                   0                   0                      0   \n",
       "4                   0                   0                      0   \n",
       "\n",
       "   custo_contato  receita  respondeu_ultima_campanha  idade  \\\n",
       "0              3       11                          1     63   \n",
       "1              3       11                          0     66   \n",
       "2              3       11                          0     55   \n",
       "3              3       11                          0     36   \n",
       "4              3       11                          0     39   \n",
       "\n",
       "   dias_como_cliente  gasto_total  gasto_produtos_regulares  \\\n",
       "0               2822         1529                      1441   \n",
       "1               2272           21                        15   \n",
       "2               2471          734                       692   \n",
       "3               2298           48                        43   \n",
       "4               2320          407                       392   \n",
       "\n",
       "   total_campanhas_aceitas  num_filhos_em_casa  despesas  \\\n",
       "0                        0                   0      1529   \n",
       "1                        0                   2        21   \n",
       "2                        0                   0       734   \n",
       "3                        0                   1        48   \n",
       "4                        0                   1       407   \n",
       "\n",
       "   booleano.marital_Divorced  booleano.marital_Married  \\\n",
       "0                          0                         0   \n",
       "1                          0                         0   \n",
       "2                          0                         0   \n",
       "3                          0                         0   \n",
       "4                          0                         1   \n",
       "\n",
       "   booleano.marital_Single  booleano.marital_Together  booleano.marital_Widow  \\\n",
       "0                        1                          0                       0   \n",
       "1                        1                          0                       0   \n",
       "2                        0                          1                       0   \n",
       "3                        0                          1                       0   \n",
       "4                        0                          0                       0   \n",
       "\n",
       "   booleano.education_2n Cycle  booleano.education_Basic  \\\n",
       "0                            0                         0   \n",
       "1                            0                         0   \n",
       "2                            0                         0   \n",
       "3                            0                         0   \n",
       "4                            0                         0   \n",
       "\n",
       "   booleano.education_Graduation  booleano.education_Master  \\\n",
       "0                              1                          0   \n",
       "1                              1                          0   \n",
       "2                              1                          0   \n",
       "3                              1                          0   \n",
       "4                              0                          0   \n",
       "\n",
       "   booleano.education_PhD estado_civil(t) nivel_escolaridade(t)  tem_filhos  \n",
       "0                       0     Solteiro(a)             Graduacao           0  \n",
       "1                       0     Solteiro(a)             Graduacao           1  \n",
       "2                       0   Uniao estavel             Graduacao           0  \n",
       "3                       0   Uniao estavel             Graduacao           1  \n",
       "4                       1       Casado(a)             Doutorado           1  "
      ]
     },
     "metadata": {},
     "output_type": "display_data"
    }
   ],
   "source": [
    "from src.config import DADOS_TRATADOS\n",
    "\n",
    "df = pd.read_parquet(DADOS_TRATADOS)\n",
    "\n",
    "with pd.option_context(\"display.max_columns\", None):\n",
    "    display(df.head())"
   ]
  },
  {
   "cell_type": "code",
   "execution_count": 3,
   "id": "58463d29-ed6f-4937-a713-4c7d8fc696a3",
   "metadata": {},
   "outputs": [
    {
     "data": {
      "text/plain": [
       "(2021, 44)"
      ]
     },
     "execution_count": 3,
     "metadata": {},
     "output_type": "execute_result"
    }
   ],
   "source": [
    "df.shape"
   ]
  },
  {
   "cell_type": "code",
   "execution_count": 4,
   "id": "d39dafef-ca9b-448f-a333-c95054b26110",
   "metadata": {},
   "outputs": [
    {
     "data": {
      "text/html": [
       "<div>\n",
       "<style scoped>\n",
       "    .dataframe tbody tr th:only-of-type {\n",
       "        vertical-align: middle;\n",
       "    }\n",
       "\n",
       "    .dataframe tbody tr th {\n",
       "        vertical-align: top;\n",
       "    }\n",
       "\n",
       "    .dataframe thead th {\n",
       "        text-align: right;\n",
       "    }\n",
       "</style>\n",
       "<table border=\"1\" class=\"dataframe\">\n",
       "  <thead>\n",
       "    <tr style=\"text-align: right;\">\n",
       "      <th></th>\n",
       "      <th>num_filhos_em_casa</th>\n",
       "      <th>renda</th>\n",
       "      <th>despesas</th>\n",
       "    </tr>\n",
       "  </thead>\n",
       "  <tbody>\n",
       "    <tr>\n",
       "      <th>count</th>\n",
       "      <td>2021.000000</td>\n",
       "      <td>2021.000000</td>\n",
       "      <td>2021.000000</td>\n",
       "    </tr>\n",
       "    <tr>\n",
       "      <th>mean</th>\n",
       "      <td>0.952994</td>\n",
       "      <td>51687.258783</td>\n",
       "      <td>563.789213</td>\n",
       "    </tr>\n",
       "    <tr>\n",
       "      <th>std</th>\n",
       "      <td>0.746123</td>\n",
       "      <td>20713.046401</td>\n",
       "      <td>576.775749</td>\n",
       "    </tr>\n",
       "    <tr>\n",
       "      <th>min</th>\n",
       "      <td>0.000000</td>\n",
       "      <td>1730.000000</td>\n",
       "      <td>4.000000</td>\n",
       "    </tr>\n",
       "    <tr>\n",
       "      <th>25%</th>\n",
       "      <td>0.000000</td>\n",
       "      <td>35416.000000</td>\n",
       "      <td>55.000000</td>\n",
       "    </tr>\n",
       "    <tr>\n",
       "      <th>50%</th>\n",
       "      <td>1.000000</td>\n",
       "      <td>51412.000000</td>\n",
       "      <td>343.000000</td>\n",
       "    </tr>\n",
       "    <tr>\n",
       "      <th>75%</th>\n",
       "      <td>1.000000</td>\n",
       "      <td>68274.000000</td>\n",
       "      <td>964.000000</td>\n",
       "    </tr>\n",
       "    <tr>\n",
       "      <th>max</th>\n",
       "      <td>3.000000</td>\n",
       "      <td>113734.000000</td>\n",
       "      <td>2491.000000</td>\n",
       "    </tr>\n",
       "  </tbody>\n",
       "</table>\n",
       "</div>"
      ],
      "text/plain": [
       "       num_filhos_em_casa          renda     despesas\n",
       "count         2021.000000    2021.000000  2021.000000\n",
       "mean             0.952994   51687.258783   563.789213\n",
       "std              0.746123   20713.046401   576.775749\n",
       "min              0.000000    1730.000000     4.000000\n",
       "25%              0.000000   35416.000000    55.000000\n",
       "50%              1.000000   51412.000000   343.000000\n",
       "75%              1.000000   68274.000000   964.000000\n",
       "max              3.000000  113734.000000  2491.000000"
      ]
     },
     "execution_count": 4,
     "metadata": {},
     "output_type": "execute_result"
    }
   ],
   "source": [
    "df[[\"num_filhos_em_casa\", \"renda\", \"despesas\"]].describe()"
   ]
  },
  {
   "cell_type": "code",
   "execution_count": 5,
   "id": "80ff24d9-fa99-43ef-a1d8-759bfe10d119",
   "metadata": {},
   "outputs": [
    {
     "data": {
      "text/plain": [
       "113734.0"
      ]
     },
     "execution_count": 5,
     "metadata": {},
     "output_type": "execute_result"
    }
   ],
   "source": [
    "df['renda'].max()"
   ]
  },
  {
   "cell_type": "code",
   "execution_count": 6,
   "id": "d5a3764b-1929-4532-8873-bf3db7a1753b",
   "metadata": {},
   "outputs": [
    {
     "data": {
      "text/plain": [
       "1730.0"
      ]
     },
     "execution_count": 6,
     "metadata": {},
     "output_type": "execute_result"
    }
   ],
   "source": [
    "df['renda'].min()"
   ]
  },
  {
   "cell_type": "code",
   "execution_count": 7,
   "id": "405dc494-a2f2-424c-9672-fa73a79eb00e",
   "metadata": {},
   "outputs": [
    {
     "data": {
      "text/plain": [
       "np.float64(51687.26)"
      ]
     },
     "execution_count": 7,
     "metadata": {},
     "output_type": "execute_result"
    }
   ],
   "source": [
    "df['renda'].mean().round(2)"
   ]
  },
  {
   "cell_type": "code",
   "execution_count": 8,
   "id": "6af46ea7-bb44-4551-a650-1c879855797d",
   "metadata": {},
   "outputs": [
    {
     "data": {
      "image/png": "[encoded data removed]",
      "text/plain": [
       "<Figure size 640x480 with 1 Axes>"
      ]
     },
     "metadata": {},
     "output_type": "display_data"
    }
   ],
   "source": [
    "sns.histplot(data=df, \n",
    "             x=\"renda\", \n",
    "             kde=True, \n",
    "             bins=10)\n",
    "\n",
    "plt.title(\"Distribuição de Renda\")\n",
    "plt.xlabel(\"Renda\")\n",
    "plt.ylabel(\"Frequência\")\n",
    "plt.show()"
   ]
  },
  {
   "cell_type": "code",
   "execution_count": 9,
   "id": "cd1226ca-33a9-43df-9a34-9559472f96f9",
   "metadata": {},
   "outputs": [
    {
     "data": {
      "text/plain": [
       "<Axes: ylabel='renda'>"
      ]
     },
     "execution_count": 9,
     "metadata": {},
     "output_type": "execute_result"
    },
    {
     "data": {
      "image/png": "[encoded data removed]",
      "text/plain": [
       "<Figure size 640x480 with 1 Axes>"
      ]
     },
     "metadata": {},
     "output_type": "display_data"
    }
   ],
   "source": [
    "sns.boxplot(df[\"renda\"])"
   ]
  },
  {
   "cell_type": "code",
   "execution_count": 10,
   "id": "fc78ef06-a183-481b-b944-e78cc18c5f9b",
   "metadata": {},
   "outputs": [
    {
     "data": {
      "text/plain": [
       "tem_filhos\n",
       "1    1454\n",
       "0     567\n",
       "Name: count, dtype: int64"
      ]
     },
     "execution_count": 10,
     "metadata": {},
     "output_type": "execute_result"
    }
   ],
   "source": [
    "df['tem_filhos'].value_counts()"
   ]
  },
  {
   "cell_type": "code",
   "execution_count": 11,
   "id": "8800030f-a0cf-4f08-9cb0-e0b47ba18fb1",
   "metadata": {},
   "outputs": [
    {
     "data": {
      "text/plain": [
       "tem_filhos\n",
       "0    598912\n",
       "1    540506\n",
       "Name: gasto_total, dtype: int64"
      ]
     },
     "execution_count": 11,
     "metadata": {},
     "output_type": "execute_result"
    }
   ],
   "source": [
    "df.groupby([\"tem_filhos\"])[\"gasto_total\"].sum()"
   ]
  },
  {
   "cell_type": "code",
   "execution_count": 12,
   "id": "7054a7f6-2353-45f0-9337-8ed059f0b9e4",
   "metadata": {},
   "outputs": [
    {
     "data": {
      "text/plain": [
       "tem_filhos\n",
       "0    52.562975\n",
       "1    47.437025\n",
       "Name: gasto_total, dtype: float64"
      ]
     },
     "execution_count": 12,
     "metadata": {},
     "output_type": "execute_result"
    }
   ],
   "source": [
    "gastos_por_filhos = df.groupby(\"tem_filhos\")[\"gasto_total\"].sum()\n",
    "percentual = (gastos_por_filhos / gastos_por_filhos.sum()) * 100\n",
    "percentual"
   ]
  },
  {
   "cell_type": "code",
   "execution_count": 13,
   "id": "6962dd74-ea5c-4fed-a2de-232d327484ff",
   "metadata": {},
   "outputs": [
    {
     "name": "stdout",
     "output_type": "stream",
     "text": [
      "Correlação entre renda e gasto_total: 0.82\n"
     ]
    }
   ],
   "source": [
    "correlacao = df['renda'].corr(df['gasto_total'])\n",
    "print(f\"Correlação entre renda e gasto_total: {correlacao:.2f}\")"
   ]
  },
  {
   "cell_type": "code",
   "execution_count": 14,
   "id": "21475232-6e55-419f-a35f-53cb81172e5e",
   "metadata": {},
   "outputs": [
    {
     "data": {
      "image/png": "[encoded data removed]",
      "text/plain": [
       "<Figure size 800x600 with 1 Axes>"
      ]
     },
     "metadata": {},
     "output_type": "display_data"
    }
   ],
   "source": [
    "plt.figure(figsize=(8, 6))\n",
    "plt.scatter(df['renda'], df['gasto_total'], alpha=0.5)\n",
    "plt.title('Relação entre Renda e Gasto Total')\n",
    "plt.xlabel('Renda')\n",
    "plt.ylabel('Gasto Total')\n",
    "plt.grid(True)\n",
    "plt.show()"
   ]
  },
  {
   "cell_type": "code",
   "execution_count": 15,
   "id": "5b7f3f5b-7ab5-4118-86b3-80dbed5f76a8",
   "metadata": {},
   "outputs": [
    {
     "data": {
      "image/png": "[encoded data removed]",
      "text/plain": [
       "<Figure size 640x480 with 2 Axes>"
      ]
     },
     "metadata": {},
     "output_type": "display_data"
    }
   ],
   "source": [
    "composicao_histograma_boxplot(df, \"renda\")"
   ]
  },
  {
   "cell_type": "code",
   "execution_count": 16,
   "id": "e8004eef-6ebc-44a0-b0ab-b9ac628ad4d1",
   "metadata": {},
   "outputs": [
    {
     "data": {
      "text/plain": [
       "<Axes: xlabel='tem_filhos', ylabel='renda'>"
      ]
     },
     "execution_count": 16,
     "metadata": {},
     "output_type": "execute_result"
    },
    {
     "data": {
      "image/png": "[encoded data removed]",
      "text/plain": [
       "<Figure size 640x480 with 1 Axes>"
      ]
     },
     "metadata": {},
     "output_type": "display_data"
    }
   ],
   "source": [
    "sns.boxplot(x='tem_filhos', y='renda', data=df)"
   ]
  },
  {
   "cell_type": "code",
   "execution_count": 17,
   "id": "cbf8249e-74aa-4a49-bc0e-de6857fbdb17",
   "metadata": {},
   "outputs": [
    {
     "data": {
      "text/plain": [
       "nivel_escolaridade(t)\n",
       "Graduacao    1015\n",
       "Doutorado     439\n",
       "Mestrado      335\n",
       "2n ciclo      183\n",
       "Básica         49\n",
       "Name: count, dtype: int64"
      ]
     },
     "execution_count": 17,
     "metadata": {},
     "output_type": "execute_result"
    }
   ],
   "source": [
    "df['nivel_escolaridade(t)'].value_counts()"
   ]
  },
  {
   "cell_type": "code",
   "execution_count": 18,
   "id": "01b9eac7-25b7-4612-b6ac-724a7491e75f",
   "metadata": {},
   "outputs": [
    {
     "data": {
      "text/plain": [
       "nivel_escolaridade(t)\n",
       "Graduacao    50.22\n",
       "Doutorado    21.72\n",
       "Mestrado     16.58\n",
       "2n ciclo      9.05\n",
       "Básica        2.42\n",
       "Name: proportion, dtype: float64"
      ]
     },
     "execution_count": 18,
     "metadata": {},
     "output_type": "execute_result"
    }
   ],
   "source": [
    "df['nivel_escolaridade(t)'].value_counts(normalize=True).mul(100).round(2)"
   ]
  },
  {
   "cell_type": "code",
   "execution_count": 19,
   "id": "52961af4-5705-410f-817c-769642cdeea4",
   "metadata": {},
   "outputs": [
    {
     "data": {
      "text/plain": [
       "nivel_escolaridade(t)\n",
       "2n ciclo     47586.33\n",
       "Básica       19913.35\n",
       "Doutorado    54973.21\n",
       "Graduacao    52150.76\n",
       "Mestrado     52864.58\n",
       "Name: renda, dtype: float64"
      ]
     },
     "execution_count": 19,
     "metadata": {},
     "output_type": "execute_result"
    }
   ],
   "source": [
    "df.groupby('nivel_escolaridade(t)')['renda'].mean().round(2)"
   ]
  },
  {
   "cell_type": "code",
   "execution_count": 20,
   "id": "6e86595c-7013-4262-b391-4523cf298f8a",
   "metadata": {},
   "outputs": [
    {
     "data": {
      "text/plain": [
       "nivel_escolaridade(t)\n",
       "2n ciclo     453.57\n",
       "Básica        61.16\n",
       "Doutorado    631.53\n",
       "Graduacao    573.53\n",
       "Mestrado     579.23\n",
       "Name: gasto_total, dtype: float64"
      ]
     },
     "execution_count": 20,
     "metadata": {},
     "output_type": "execute_result"
    }
   ],
   "source": [
    "df.groupby('nivel_escolaridade(t)')['gasto_total'].mean().round(2)"
   ]
  },
  {
   "cell_type": "code",
   "execution_count": 21,
   "id": "9f03487d-25c6-473f-9318-59a5ac19d4f3",
   "metadata": {},
   "outputs": [
    {
     "data": {
      "text/html": [
       "<div>\n",
       "<style scoped>\n",
       "    .dataframe tbody tr th:only-of-type {\n",
       "        vertical-align: middle;\n",
       "    }\n",
       "\n",
       "    .dataframe tbody tr th {\n",
       "        vertical-align: top;\n",
       "    }\n",
       "\n",
       "    .dataframe thead th {\n",
       "        text-align: right;\n",
       "    }\n",
       "</style>\n",
       "<table border=\"1\" class=\"dataframe\">\n",
       "  <thead>\n",
       "    <tr style=\"text-align: right;\">\n",
       "      <th>estado_civil(t)</th>\n",
       "      <th>Casado(a)</th>\n",
       "      <th>Divorciado(a)</th>\n",
       "      <th>Solteiro(a)</th>\n",
       "      <th>Uniao estavel</th>\n",
       "      <th>Viuvo(a)</th>\n",
       "      <th>Total</th>\n",
       "    </tr>\n",
       "    <tr>\n",
       "      <th>nivel_escolaridade(t)</th>\n",
       "      <th></th>\n",
       "      <th></th>\n",
       "      <th></th>\n",
       "      <th></th>\n",
       "      <th></th>\n",
       "      <th></th>\n",
       "    </tr>\n",
       "  </thead>\n",
       "  <tbody>\n",
       "    <tr>\n",
       "      <th>2n ciclo</th>\n",
       "      <td>70</td>\n",
       "      <td>21</td>\n",
       "      <td>35</td>\n",
       "      <td>52</td>\n",
       "      <td>5</td>\n",
       "      <td>183</td>\n",
       "    </tr>\n",
       "    <tr>\n",
       "      <th>Básica</th>\n",
       "      <td>18</td>\n",
       "      <td>1</td>\n",
       "      <td>18</td>\n",
       "      <td>11</td>\n",
       "      <td>1</td>\n",
       "      <td>49</td>\n",
       "    </tr>\n",
       "    <tr>\n",
       "      <th>Doutorado</th>\n",
       "      <td>174</td>\n",
       "      <td>47</td>\n",
       "      <td>92</td>\n",
       "      <td>104</td>\n",
       "      <td>22</td>\n",
       "      <td>439</td>\n",
       "    </tr>\n",
       "    <tr>\n",
       "      <th>Graduacao</th>\n",
       "      <td>392</td>\n",
       "      <td>112</td>\n",
       "      <td>228</td>\n",
       "      <td>252</td>\n",
       "      <td>31</td>\n",
       "      <td>1015</td>\n",
       "    </tr>\n",
       "    <tr>\n",
       "      <th>Mestrado</th>\n",
       "      <td>131</td>\n",
       "      <td>33</td>\n",
       "      <td>70</td>\n",
       "      <td>90</td>\n",
       "      <td>11</td>\n",
       "      <td>335</td>\n",
       "    </tr>\n",
       "    <tr>\n",
       "      <th>Total</th>\n",
       "      <td>785</td>\n",
       "      <td>214</td>\n",
       "      <td>443</td>\n",
       "      <td>509</td>\n",
       "      <td>70</td>\n",
       "      <td>2021</td>\n",
       "    </tr>\n",
       "  </tbody>\n",
       "</table>\n",
       "</div>"
      ],
      "text/plain": [
       "estado_civil(t)        Casado(a)  Divorciado(a)  Solteiro(a)  Uniao estavel  \\\n",
       "nivel_escolaridade(t)                                                         \n",
       "2n ciclo                      70             21           35             52   \n",
       "Básica                        18              1           18             11   \n",
       "Doutorado                    174             47           92            104   \n",
       "Graduacao                    392            112          228            252   \n",
       "Mestrado                     131             33           70             90   \n",
       "Total                        785            214          443            509   \n",
       "\n",
       "estado_civil(t)        Viuvo(a)  Total  \n",
       "nivel_escolaridade(t)                   \n",
       "2n ciclo                      5    183  \n",
       "Básica                        1     49  \n",
       "Doutorado                    22    439  \n",
       "Graduacao                    31   1015  \n",
       "Mestrado                     11    335  \n",
       "Total                        70   2021  "
      ]
     },
     "execution_count": 21,
     "metadata": {},
     "output_type": "execute_result"
    }
   ],
   "source": [
    "pd.crosstab(df[\"nivel_escolaridade(t)\"], df[\"estado_civil(t)\"], margins=True, margins_name=\"Total\")"
   ]
  },
  {
   "cell_type": "code",
   "execution_count": 22,
   "id": "63970f36-913f-487b-ab4e-fe605e159da4",
   "metadata": {},
   "outputs": [
    {
     "data": {
      "image/png": "[encoded data removed]",
      "text/plain": [
       "<Figure size 1000x600 with 1 Axes>"
      ]
     },
     "metadata": {},
     "output_type": "display_data"
    }
   ],
   "source": [
    "grafico = pd.crosstab(df[\"nivel_escolaridade(t)\"], df[\"estado_civil(t)\"])\n",
    "\n",
    "grafico.plot(kind=\"bar\", figsize=(10, 6))\n",
    "\n",
    "plt.title(\"Distribuição por Nível de Escolaridade e Estado Civil\")\n",
    "plt.xlabel(\"Nível de Escolaridade\")\n",
    "plt.ylabel(\"Quantidade\")\n",
    "plt.legend(title=\"Estado Civil\")\n",
    "plt.xticks(rotation=45)\n",
    "plt.tight_layout()\n",
    "plt.grid(axis='y', linestyle='--', alpha=0.7)\n",
    "\n",
    "plt.show()"
   ]
  },
  {
   "cell_type": "code",
   "execution_count": 23,
   "id": "14bc8342-0bde-4537-8c03-fbf59f1497bf",
   "metadata": {},
   "outputs": [
    {
     "data": {
      "text/plain": [
       "<Axes: xlabel='nivel_escolaridade(t)', ylabel='num_filhos_em_casa'>"
      ]
     },
     "execution_count": 23,
     "metadata": {},
     "output_type": "execute_result"
    },
    {
     "data": {
      "image/png": "[encoded data removed]",
      "text/plain": [
       "<Figure size 640x480 with 1 Axes>"
      ]
     },
     "metadata": {},
     "output_type": "display_data"
    }
   ],
   "source": [
    "sns.boxplot(x='nivel_escolaridade(t)', y='num_filhos_em_casa', data=df)"
   ]
  },
  {
   "cell_type": "code",
   "execution_count": 24,
   "id": "fd03a737-a5cc-40e2-9ceb-394f08e2abff",
   "metadata": {},
   "outputs": [
    {
     "data": {
      "text/plain": [
       "tem_filhos\n",
       "0    48.153439\n",
       "1    49.164374\n",
       "Name: recencia, dtype: float64"
      ]
     },
     "execution_count": 24,
     "metadata": {},
     "output_type": "execute_result"
    }
   ],
   "source": [
    "df.groupby('tem_filhos')['recencia'].mean()"
   ]
  },
  {
   "cell_type": "code",
   "execution_count": 25,
   "id": "84fca38a-3e16-4276-b047-c92568eed8f6",
   "metadata": {},
   "outputs": [
    {
     "data": {
      "text/html": [
       "<div>\n",
       "<style scoped>\n",
       "    .dataframe tbody tr th:only-of-type {\n",
       "        vertical-align: middle;\n",
       "    }\n",
       "\n",
       "    .dataframe tbody tr th {\n",
       "        vertical-align: top;\n",
       "    }\n",
       "\n",
       "    .dataframe thead th {\n",
       "        text-align: right;\n",
       "    }\n",
       "</style>\n",
       "<table border=\"1\" class=\"dataframe\">\n",
       "  <thead>\n",
       "    <tr style=\"text-align: right;\">\n",
       "      <th></th>\n",
       "      <th>Média</th>\n",
       "    </tr>\n",
       "  </thead>\n",
       "  <tbody>\n",
       "    <tr>\n",
       "      <th>Campanha 1</th>\n",
       "      <td>133</td>\n",
       "    </tr>\n",
       "    <tr>\n",
       "      <th>Campanha 2</th>\n",
       "      <td>26</td>\n",
       "    </tr>\n",
       "    <tr>\n",
       "      <th>Campanha 3</th>\n",
       "      <td>151</td>\n",
       "    </tr>\n",
       "    <tr>\n",
       "      <th>Campanha 4</th>\n",
       "      <td>155</td>\n",
       "    </tr>\n",
       "    <tr>\n",
       "      <th>Campanha 5</th>\n",
       "      <td>146</td>\n",
       "    </tr>\n",
       "    <tr>\n",
       "      <th>Total de campanhas aceitas</th>\n",
       "      <td>611</td>\n",
       "    </tr>\n",
       "  </tbody>\n",
       "</table>\n",
       "</div>"
      ],
      "text/plain": [
       "                            Média\n",
       "Campanha 1                    133\n",
       "Campanha 2                     26\n",
       "Campanha 3                    151\n",
       "Campanha 4                    155\n",
       "Campanha 5                    146\n",
       "Total de campanhas aceitas    611"
      ]
     },
     "execution_count": 25,
     "metadata": {},
     "output_type": "execute_result"
    }
   ],
   "source": [
    "soma_campanhas = pd.DataFrame({\n",
    "    'Média': [df['aceitou_campanha_1'].sum(), \n",
    "              df['aceitou_campanha_2'].sum(), \n",
    "              df['aceitou_campanha_3'].sum(), \n",
    "              df['aceitou_campanha_4'].sum(), \n",
    "              df['aceitou_campanha_5'].sum(), \n",
    "              df['total_campanhas_aceitas'].sum()]\n",
    "}, index=['Campanha 1', 'Campanha 2', 'Campanha 3', 'Campanha 4', 'Campanha 5', 'Total de campanhas aceitas'])\n",
    "\n",
    "soma_campanhas"
   ]
  },
  {
   "cell_type": "code",
   "execution_count": 26,
   "id": "0b51d304-8d24-46ac-a90e-8be38104bcca",
   "metadata": {},
   "outputs": [
    {
     "data": {
      "text/plain": [
       "tem_filhos\n",
       "0    0.62\n",
       "1    0.18\n",
       "Name: total_campanhas_aceitas, dtype: float64"
      ]
     },
     "execution_count": 26,
     "metadata": {},
     "output_type": "execute_result"
    }
   ],
   "source": [
    "df.groupby('tem_filhos')['total_campanhas_aceitas'].mean().round(2)"
   ]
  },
  {
   "cell_type": "code",
   "execution_count": 27,
   "id": "fe2e7aaf-caf2-41e2-86e9-77ba892d9b4f",
   "metadata": {},
   "outputs": [
    {
     "data": {
      "image/png": "[encoded data removed]",
      "text/plain": [
       "<Figure size 640x480 with 1 Axes>"
      ]
     },
     "metadata": {},
     "output_type": "display_data"
    }
   ],
   "source": [
    "sns.histplot(data=df, x=\"total_campanhas_aceitas\", bins=6, discrete=True)\n",
    "\n",
    "plt.title(\"Distribuição de Campanhas Aceitas\")\n",
    "plt.xlabel(\"Total de Campanhas Aceitas\")\n",
    "plt.ylabel(\"Frequência\")\n",
    "plt.show()"
   ]
  },
  {
   "cell_type": "markdown",
   "id": "9f9ad038-108a-46be-afba-b5ad0e7374bf",
   "metadata": {},
   "source": [
    "Dos 2.021 clientes analisados, a maioria (cerca de 80%) não aceitou nenhuma campanha de marketing. Apenas uma pequena parcela aceitou duas ou mais campanhas, indicando um baixo engajamento geral. Isso sugere que as campanhas atuais podem não estar bem direcionadas ou atrativas para grande parte dos clientes."
   ]
  },
  {
   "cell_type": "code",
   "execution_count": 28,
   "id": "bdbc63c4-228e-4443-a949-8f1a04d30dc6",
   "metadata": {},
   "outputs": [
    {
     "data": {
      "text/plain": [
       "np.int64(1139418)"
      ]
     },
     "execution_count": 28,
     "metadata": {},
     "output_type": "execute_result"
    }
   ],
   "source": [
    "df['gasto_total'].sum()"
   ]
  },
  {
   "cell_type": "code",
   "execution_count": 29,
   "id": "f731c7fc-174f-4244-80e2-34583296ea50",
   "metadata": {},
   "outputs": [
    {
     "data": {
      "text/plain": [
       "np.int64(1139418)"
      ]
     },
     "execution_count": 29,
     "metadata": {},
     "output_type": "execute_result"
    }
   ],
   "source": [
    "df['despesas'].sum()"
   ]
  },
  {
   "cell_type": "code",
   "execution_count": 30,
   "id": "ef18b8ee-fc0e-4e45-98e1-17227cc6b4b5",
   "metadata": {},
   "outputs": [
    {
     "data": {
      "text/html": [
       "<div>\n",
       "<style scoped>\n",
       "    .dataframe tbody tr th:only-of-type {\n",
       "        vertical-align: middle;\n",
       "    }\n",
       "\n",
       "    .dataframe tbody tr th {\n",
       "        vertical-align: top;\n",
       "    }\n",
       "\n",
       "    .dataframe thead th {\n",
       "        text-align: right;\n",
       "    }\n",
       "</style>\n",
       "<table border=\"1\" class=\"dataframe\">\n",
       "  <thead>\n",
       "    <tr style=\"text-align: right;\">\n",
       "      <th></th>\n",
       "      <th>Média</th>\n",
       "    </tr>\n",
       "  </thead>\n",
       "  <tbody>\n",
       "    <tr>\n",
       "      <th>Gasto Total</th>\n",
       "      <td>563.79</td>\n",
       "    </tr>\n",
       "    <tr>\n",
       "      <th>Despesas</th>\n",
       "      <td>563.79</td>\n",
       "    </tr>\n",
       "  </tbody>\n",
       "</table>\n",
       "</div>"
      ],
      "text/plain": [
       "              Média\n",
       "Gasto Total  563.79\n",
       "Despesas     563.79"
      ]
     },
     "execution_count": 30,
     "metadata": {},
     "output_type": "execute_result"
    }
   ],
   "source": [
    "media_comparativa = pd.DataFrame({\n",
    "    'Média': [df['gasto_total'].mean(), df['despesas'].mean()]\n",
    "}, index=['Gasto Total', 'Despesas']).round(2)\n",
    "\n",
    "media_comparativa"
   ]
  },
  {
   "cell_type": "markdown",
   "id": "127fd646-0f8a-4eab-bf0e-550161b5fb2d",
   "metadata": {},
   "source": [
    "As colunas despesas e gasto total possuem os mesmos dados, ou seja, é uma coluna duplicada (eu poderia ter excluido na limpeza). "
   ]
  },
  {
   "cell_type": "code",
   "execution_count": 31,
   "id": "6415c111-8b75-46e8-b968-5725f700f8d4",
   "metadata": {},
   "outputs": [
    {
     "data": {
      "text/html": [
       "<div>\n",
       "<style scoped>\n",
       "    .dataframe tbody tr th:only-of-type {\n",
       "        vertical-align: middle;\n",
       "    }\n",
       "\n",
       "    .dataframe tbody tr th {\n",
       "        vertical-align: top;\n",
       "    }\n",
       "\n",
       "    .dataframe thead th {\n",
       "        text-align: right;\n",
       "    }\n",
       "</style>\n",
       "<table border=\"1\" class=\"dataframe\">\n",
       "  <thead>\n",
       "    <tr style=\"text-align: right;\">\n",
       "      <th></th>\n",
       "      <th>Média</th>\n",
       "    </tr>\n",
       "  </thead>\n",
       "  <tbody>\n",
       "    <tr>\n",
       "      <th>Vinhos</th>\n",
       "      <td>306.49</td>\n",
       "    </tr>\n",
       "    <tr>\n",
       "      <th>Frutas</th>\n",
       "      <td>26.36</td>\n",
       "    </tr>\n",
       "    <tr>\n",
       "      <th>Carnes</th>\n",
       "      <td>166.06</td>\n",
       "    </tr>\n",
       "    <tr>\n",
       "      <th>Peixes</th>\n",
       "      <td>37.60</td>\n",
       "    </tr>\n",
       "    <tr>\n",
       "      <th>Doces</th>\n",
       "      <td>27.27</td>\n",
       "    </tr>\n",
       "    <tr>\n",
       "      <th>Total gasto</th>\n",
       "      <td>563.79</td>\n",
       "    </tr>\n",
       "  </tbody>\n",
       "</table>\n",
       "</div>"
      ],
      "text/plain": [
       "              Média\n",
       "Vinhos       306.49\n",
       "Frutas        26.36\n",
       "Carnes       166.06\n",
       "Peixes        37.60\n",
       "Doces         27.27\n",
       "Total gasto  563.79"
      ]
     },
     "execution_count": 31,
     "metadata": {},
     "output_type": "execute_result"
    }
   ],
   "source": [
    "media_vinhos_a_doces = pd.DataFrame({\n",
    "    'Média': [df['gasto_vinhos'].mean(), \n",
    "              df['gasto_frutas'].mean(), \n",
    "              df['gasto_carnes'].mean(), \n",
    "              df['gasto_peixes'].mean(), \n",
    "              df['gasto_doces'].mean(),\n",
    "              df['gasto_total'].mean()]\n",
    "}, index=['Vinhos', 'Frutas', 'Carnes', 'Peixes', 'Doces', 'Total gasto']).round(2)\n",
    "\n",
    "media_vinhos_a_doces"
   ]
  },
  {
   "cell_type": "code",
   "execution_count": 32,
   "id": "51f92c93-7498-4615-97de-1f39ddbbaa8d",
   "metadata": {},
   "outputs": [
    {
     "data": {
      "text/html": [
       "<div>\n",
       "<style scoped>\n",
       "    .dataframe tbody tr th:only-of-type {\n",
       "        vertical-align: middle;\n",
       "    }\n",
       "\n",
       "    .dataframe tbody tr th {\n",
       "        vertical-align: top;\n",
       "    }\n",
       "\n",
       "    .dataframe thead th {\n",
       "        text-align: right;\n",
       "    }\n",
       "</style>\n",
       "<table border=\"1\" class=\"dataframe\">\n",
       "  <thead>\n",
       "    <tr style=\"text-align: right;\">\n",
       "      <th></th>\n",
       "      <th>soma</th>\n",
       "    </tr>\n",
       "  </thead>\n",
       "  <tbody>\n",
       "    <tr>\n",
       "      <th>Vinhos</th>\n",
       "      <td>619421</td>\n",
       "    </tr>\n",
       "    <tr>\n",
       "      <th>Frutas</th>\n",
       "      <td>53283</td>\n",
       "    </tr>\n",
       "    <tr>\n",
       "      <th>Carnes</th>\n",
       "      <td>335607</td>\n",
       "    </tr>\n",
       "    <tr>\n",
       "      <th>Peixes</th>\n",
       "      <td>75997</td>\n",
       "    </tr>\n",
       "    <tr>\n",
       "      <th>Doces</th>\n",
       "      <td>55110</td>\n",
       "    </tr>\n",
       "    <tr>\n",
       "      <th>Total gasto</th>\n",
       "      <td>1139418</td>\n",
       "    </tr>\n",
       "  </tbody>\n",
       "</table>\n",
       "</div>"
      ],
      "text/plain": [
       "                soma\n",
       "Vinhos        619421\n",
       "Frutas         53283\n",
       "Carnes        335607\n",
       "Peixes         75997\n",
       "Doces          55110\n",
       "Total gasto  1139418"
      ]
     },
     "execution_count": 32,
     "metadata": {},
     "output_type": "execute_result"
    }
   ],
   "source": [
    "soma_vinhos_a_doces = pd.DataFrame({\n",
    "    'soma': [df['gasto_vinhos'].sum(), \n",
    "              df['gasto_frutas'].sum(), \n",
    "              df['gasto_carnes'].sum(), \n",
    "              df['gasto_peixes'].sum(), \n",
    "              df['gasto_doces'].sum(),\n",
    "              df['gasto_total'].sum()]\n",
    "}, index=['Vinhos', 'Frutas', 'Carnes', 'Peixes', 'Doces', 'Total gasto'])\n",
    "\n",
    "soma_vinhos_a_doces"
   ]
  },
  {
   "cell_type": "code",
   "execution_count": 33,
   "id": "d1265306-ab96-459e-831c-ac8668df4b07",
   "metadata": {},
   "outputs": [
    {
     "data": {
      "text/html": [
       "<div>\n",
       "<style scoped>\n",
       "    .dataframe tbody tr th:only-of-type {\n",
       "        vertical-align: middle;\n",
       "    }\n",
       "\n",
       "    .dataframe tbody tr th {\n",
       "        vertical-align: top;\n",
       "    }\n",
       "\n",
       "    .dataframe thead th {\n",
       "        text-align: right;\n",
       "    }\n",
       "</style>\n",
       "<table border=\"1\" class=\"dataframe\">\n",
       "  <thead>\n",
       "    <tr style=\"text-align: right;\">\n",
       "      <th></th>\n",
       "      <th>%</th>\n",
       "    </tr>\n",
       "  </thead>\n",
       "  <tbody>\n",
       "    <tr>\n",
       "      <th>Vinhos</th>\n",
       "      <td>0.544</td>\n",
       "    </tr>\n",
       "    <tr>\n",
       "      <th>Frutas</th>\n",
       "      <td>0.047</td>\n",
       "    </tr>\n",
       "    <tr>\n",
       "      <th>Carnes</th>\n",
       "      <td>0.295</td>\n",
       "    </tr>\n",
       "    <tr>\n",
       "      <th>Peixes</th>\n",
       "      <td>0.067</td>\n",
       "    </tr>\n",
       "    <tr>\n",
       "      <th>Doces</th>\n",
       "      <td>0.048</td>\n",
       "    </tr>\n",
       "  </tbody>\n",
       "</table>\n",
       "</div>"
      ],
      "text/plain": [
       "            %\n",
       "Vinhos  0.544\n",
       "Frutas  0.047\n",
       "Carnes  0.295\n",
       "Peixes  0.067\n",
       "Doces   0.048"
      ]
     },
     "execution_count": 33,
     "metadata": {},
     "output_type": "execute_result"
    }
   ],
   "source": [
    "categorias = ['gasto_vinhos', 'gasto_frutas', 'gasto_carnes', 'gasto_peixes', 'gasto_doces']\n",
    "nomes = ['Vinhos', 'Frutas', 'Carnes', 'Peixes', 'Doces']\n",
    "\n",
    "total = df['gasto_total'].sum()\n",
    "\n",
    "percent_vinhos_a_doces = pd.DataFrame({\n",
    "    '%': [df[c].sum() / total for c in categorias]\n",
    "}, index=nomes).round(3)\n",
    "\n",
    "percent_vinhos_a_doces"
   ]
  },
  {
   "cell_type": "markdown",
   "id": "1e32d1c3-79fb-40ac-bc7f-19ae5cf2052f",
   "metadata": {},
   "source": [
    "Os valores representam a proporção do gasto total dedicado a cada categoria. Vinhos correspondem a 54,4% do gasto total, seguido por carnes com 29,5%. Peixes, doces e frutas têm participações menores, com 6,7%, 4,8% e 4,7%, respectivamente."
   ]
  },
  {
   "cell_type": "code",
   "execution_count": 34,
   "id": "f1da84b0-7610-4bab-9bc7-1c1924e615ad",
   "metadata": {},
   "outputs": [
    {
     "data": {
      "text/plain": [
       "tem_filhos\n",
       "0    497.463845\n",
       "1    232.021320\n",
       "Name: gasto_vinhos, dtype: float64"
      ]
     },
     "execution_count": 34,
     "metadata": {},
     "output_type": "execute_result"
    }
   ],
   "source": [
    "df.groupby('tem_filhos')['gasto_vinhos'].mean()"
   ]
  },
  {
   "cell_type": "code",
   "execution_count": 35,
   "id": "84c20161-ecb7-48dc-bee8-6b2cae128112",
   "metadata": {},
   "outputs": [
    {
     "data": {
      "text/plain": [
       "tem_filhos\n",
       "0    374.158730\n",
       "1     84.909904\n",
       "Name: gasto_carnes, dtype: float64"
      ]
     },
     "execution_count": 35,
     "metadata": {},
     "output_type": "execute_result"
    }
   ],
   "source": [
    "df.groupby('tem_filhos')['gasto_carnes'].mean()"
   ]
  },
  {
   "cell_type": "markdown",
   "id": "c9010d62-e5de-4a44-9324-61ffe23a4b8a",
   "metadata": {},
   "source": [
    "Pessoas sem filhos apresentam gastos maiores com vinhos e carnes, possivelmente porque têm mais disponibilidade financeira e liberdade para consumir esses itens. Já famílias com filhos podem ter restrições orçamentárias ou preferências alimentares diferentes que impactam esses gastos."
   ]
  },
  {
   "cell_type": "code",
   "execution_count": 36,
   "id": "045aca19-2912-4cf5-bcdd-8b4bad2533ef",
   "metadata": {},
   "outputs": [
    {
     "data": {
      "text/plain": [
       "<Axes: xlabel='num_filhos_em_casa', ylabel='gasto_total'>"
      ]
     },
     "execution_count": 36,
     "metadata": {},
     "output_type": "execute_result"
    },
    {
     "data": {
      "image/png": "[encoded data removed]",
      "text/plain": [
       "<Figure size 640x480 with 1 Axes>"
      ]
     },
     "metadata": {},
     "output_type": "display_data"
    }
   ],
   "source": [
    "sns.boxplot(x='num_filhos_em_casa', y='gasto_total', data=df)"
   ]
  },
  {
   "cell_type": "code",
   "execution_count": 37,
   "id": "327a5efd-1425-4906-bb57-e8cf63f2538e",
   "metadata": {},
   "outputs": [
    {
     "data": {
      "text/html": [
       "<div>\n",
       "<style scoped>\n",
       "    .dataframe tbody tr th:only-of-type {\n",
       "        vertical-align: middle;\n",
       "    }\n",
       "\n",
       "    .dataframe tbody tr th {\n",
       "        vertical-align: top;\n",
       "    }\n",
       "\n",
       "    .dataframe thead th {\n",
       "        text-align: right;\n",
       "    }\n",
       "</style>\n",
       "<table border=\"1\" class=\"dataframe\">\n",
       "  <thead>\n",
       "    <tr style=\"text-align: right;\">\n",
       "      <th></th>\n",
       "      <th>Média</th>\n",
       "    </tr>\n",
       "  </thead>\n",
       "  <tbody>\n",
       "    <tr>\n",
       "      <th>Regulares</th>\n",
       "      <td>519.87</td>\n",
       "    </tr>\n",
       "    <tr>\n",
       "      <th>Ouro</th>\n",
       "      <td>43.92</td>\n",
       "    </tr>\n",
       "  </tbody>\n",
       "</table>\n",
       "</div>"
      ],
      "text/plain": [
       "            Média\n",
       "Regulares  519.87\n",
       "Ouro        43.92"
      ]
     },
     "execution_count": 37,
     "metadata": {},
     "output_type": "execute_result"
    }
   ],
   "source": [
    "media_regulares_ouro = pd.DataFrame({\n",
    "    'Média': [df['gasto_produtos_regulares'].mean(), \n",
    "              df['gasto_produtos_ouro'].mean()]\n",
    "}, index=['Regulares', 'Ouro']).round(2)\n",
    "\n",
    "media_regulares_ouro"
   ]
  },
  {
   "cell_type": "code",
   "execution_count": 38,
   "id": "7d2c8cec-dd65-4265-9400-07c46ce42214",
   "metadata": {},
   "outputs": [
    {
     "data": {
      "text/html": [
       "<div>\n",
       "<style scoped>\n",
       "    .dataframe tbody tr th:only-of-type {\n",
       "        vertical-align: middle;\n",
       "    }\n",
       "\n",
       "    .dataframe tbody tr th {\n",
       "        vertical-align: top;\n",
       "    }\n",
       "\n",
       "    .dataframe thead th {\n",
       "        text-align: right;\n",
       "    }\n",
       "</style>\n",
       "<table border=\"1\" class=\"dataframe\">\n",
       "  <thead>\n",
       "    <tr style=\"text-align: right;\">\n",
       "      <th></th>\n",
       "      <th>soma</th>\n",
       "    </tr>\n",
       "  </thead>\n",
       "  <tbody>\n",
       "    <tr>\n",
       "      <th>Regulares</th>\n",
       "      <td>1050652</td>\n",
       "    </tr>\n",
       "    <tr>\n",
       "      <th>Ouro</th>\n",
       "      <td>88766</td>\n",
       "    </tr>\n",
       "  </tbody>\n",
       "</table>\n",
       "</div>"
      ],
      "text/plain": [
       "              soma\n",
       "Regulares  1050652\n",
       "Ouro         88766"
      ]
     },
     "execution_count": 38,
     "metadata": {},
     "output_type": "execute_result"
    }
   ],
   "source": [
    "soma_regulares_ouro = pd.DataFrame({\n",
    "    'soma': [df['gasto_produtos_regulares'].sum(), \n",
    "              df['gasto_produtos_ouro'].sum()]\n",
    "}, index=['Regulares', 'Ouro']).round(2)\n",
    "\n",
    "soma_regulares_ouro"
   ]
  },
  {
   "cell_type": "code",
   "execution_count": 39,
   "id": "1a332f1b-48c8-40c4-ae9b-c880051df01e",
   "metadata": {},
   "outputs": [
    {
     "data": {
      "text/html": [
       "<div>\n",
       "<style scoped>\n",
       "    .dataframe tbody tr th:only-of-type {\n",
       "        vertical-align: middle;\n",
       "    }\n",
       "\n",
       "    .dataframe tbody tr th {\n",
       "        vertical-align: top;\n",
       "    }\n",
       "\n",
       "    .dataframe thead th {\n",
       "        text-align: right;\n",
       "    }\n",
       "</style>\n",
       "<table border=\"1\" class=\"dataframe\">\n",
       "  <thead>\n",
       "    <tr style=\"text-align: right;\">\n",
       "      <th></th>\n",
       "      <th>%</th>\n",
       "    </tr>\n",
       "  </thead>\n",
       "  <tbody>\n",
       "    <tr>\n",
       "      <th>Regulares</th>\n",
       "      <td>0.922</td>\n",
       "    </tr>\n",
       "    <tr>\n",
       "      <th>Ouro</th>\n",
       "      <td>0.078</td>\n",
       "    </tr>\n",
       "  </tbody>\n",
       "</table>\n",
       "</div>"
      ],
      "text/plain": [
       "               %\n",
       "Regulares  0.922\n",
       "Ouro       0.078"
      ]
     },
     "execution_count": 39,
     "metadata": {},
     "output_type": "execute_result"
    }
   ],
   "source": [
    "categorias_regular_ouro = ['gasto_produtos_regulares', 'gasto_produtos_ouro']\n",
    "nomes_regular_ouro = ['Regulares', 'Ouro']\n",
    "\n",
    "total = df['gasto_total'].sum()\n",
    "\n",
    "percent_regular_ouro = pd.DataFrame({\n",
    "    '%': [df[c].sum() / total for c in categorias_regular_ouro]\n",
    "}, index=nomes_regular_ouro).round(3)\n",
    "\n",
    "percent_regular_ouro"
   ]
  },
  {
   "cell_type": "code",
   "execution_count": 40,
   "id": "f475e708-4011-4813-be55-bfe3cec9b4f7",
   "metadata": {},
   "outputs": [
    {
     "data": {
      "text/plain": [
       "tem_filhos\n",
       "0    992.042328\n",
       "1    335.738652\n",
       "Name: gasto_produtos_regulares, dtype: float64"
      ]
     },
     "execution_count": 40,
     "metadata": {},
     "output_type": "execute_result"
    }
   ],
   "source": [
    "df.groupby('tem_filhos')['gasto_produtos_regulares'].mean()"
   ]
  },
  {
   "cell_type": "code",
   "execution_count": 41,
   "id": "f802ad30-817d-4995-bb0e-a070a0485511",
   "metadata": {},
   "outputs": [
    {
     "data": {
      "text/plain": [
       "tem_filhos\n",
       "0    562488\n",
       "1    488164\n",
       "Name: gasto_produtos_regulares, dtype: int64"
      ]
     },
     "execution_count": 41,
     "metadata": {},
     "output_type": "execute_result"
    }
   ],
   "source": [
    "df.groupby('tem_filhos')['gasto_produtos_regulares'].sum()"
   ]
  },
  {
   "cell_type": "code",
   "execution_count": 42,
   "id": "f149e58d-d001-4738-9532-4d0c6329599f",
   "metadata": {},
   "outputs": [
    {
     "data": {
      "text/plain": [
       "np.float64(53.54)"
      ]
     },
     "execution_count": 42,
     "metadata": {},
     "output_type": "execute_result"
    }
   ],
   "source": [
    "proporcao = (\n",
    "    df[df['tem_filhos'] == 0]['gasto_produtos_regulares'].sum() / df['gasto_produtos_regulares'].sum()\n",
    ").round(4)*100\n",
    "\n",
    "proporcao"
   ]
  },
  {
   "cell_type": "code",
   "execution_count": 43,
   "id": "ead79f41-9e5b-49ac-a4c1-6089dac5070e",
   "metadata": {},
   "outputs": [
    {
     "data": {
      "text/plain": [
       "tem_filhos\n",
       "0    64.239859\n",
       "1    35.998624\n",
       "Name: gasto_produtos_ouro, dtype: float64"
      ]
     },
     "execution_count": 43,
     "metadata": {},
     "output_type": "execute_result"
    }
   ],
   "source": [
    "df.groupby('tem_filhos')['gasto_produtos_ouro'].mean()"
   ]
  },
  {
   "cell_type": "code",
   "execution_count": 44,
   "id": "c5eeb8a5-ba43-4033-b006-8f4419e669e8",
   "metadata": {},
   "outputs": [
    {
     "data": {
      "text/plain": [
       "tem_filhos\n",
       "0    2512.395062\n",
       "1    2511.308116\n",
       "Name: dias_como_cliente, dtype: float64"
      ]
     },
     "execution_count": 44,
     "metadata": {},
     "output_type": "execute_result"
    }
   ],
   "source": [
    "df.groupby('tem_filhos')['dias_como_cliente'].mean()"
   ]
  },
  {
   "cell_type": "code",
   "execution_count": 45,
   "id": "89cc3ee4-d3d7-4b96-b27b-7607b41a397f",
   "metadata": {},
   "outputs": [
    {
     "data": {
      "text/plain": [
       "num_filhos_em_casa\n",
       "0    1056.282187\n",
       "1     432.732230\n",
       "2     223.267016\n",
       "3     240.044444\n",
       "Name: gasto_total, dtype: float64"
      ]
     },
     "execution_count": 45,
     "metadata": {},
     "output_type": "execute_result"
    }
   ],
   "source": [
    "df.groupby('num_filhos_em_casa')['gasto_total'].mean()"
   ]
  },
  {
   "cell_type": "code",
   "execution_count": 46,
   "id": "76b2629d-458b-4eab-94b4-48556001b5e5",
   "metadata": {},
   "outputs": [
    {
     "data": {
      "text/plain": [
       "estado_civil(t)\n",
       "Casado(a)        785\n",
       "Uniao estavel    509\n",
       "Solteiro(a)      443\n",
       "Divorciado(a)    214\n",
       "Viuvo(a)          70\n",
       "Name: count, dtype: int64"
      ]
     },
     "execution_count": 46,
     "metadata": {},
     "output_type": "execute_result"
    }
   ],
   "source": [
    "df['estado_civil(t)'].value_counts()"
   ]
  },
  {
   "cell_type": "code",
   "execution_count": 47,
   "id": "1750d7c5-d1c2-4392-9976-7fcb47d3843a",
   "metadata": {},
   "outputs": [
    {
     "data": {
      "text/plain": [
       "estado_civil(t)\n",
       "Casado(a)        38.84\n",
       "Uniao estavel    25.19\n",
       "Solteiro(a)      21.92\n",
       "Divorciado(a)    10.59\n",
       "Viuvo(a)          3.46\n",
       "Name: proportion, dtype: float64"
      ]
     },
     "execution_count": 47,
     "metadata": {},
     "output_type": "execute_result"
    }
   ],
   "source": [
    "df['estado_civil(t)'].value_counts(normalize=True).mul(100).round(2)"
   ]
  },
  {
   "cell_type": "code",
   "execution_count": 48,
   "id": "c84f32ce-1709-4f65-9a34-0dd8b5685137",
   "metadata": {},
   "outputs": [
    {
     "data": {
      "text/plain": [
       "estado_civil(t)\n",
       "Casado(a)        51483.67\n",
       "Divorciado(a)    52596.43\n",
       "Solteiro(a)      50971.70\n",
       "Uniao estavel    51526.28\n",
       "Viuvo(a)         56889.91\n",
       "Name: renda, dtype: float64"
      ]
     },
     "execution_count": 48,
     "metadata": {},
     "output_type": "execute_result"
    }
   ],
   "source": [
    "df.groupby(['estado_civil(t)'])['renda'].mean().round(2)"
   ]
  },
  {
   "cell_type": "code",
   "execution_count": 49,
   "id": "45c96590-92be-4aa0-aa77-70fa308ffdb3",
   "metadata": {},
   "outputs": [
    {
     "data": {
      "text/plain": [
       "estado_civil(t)\n",
       "Casado(a)        549.61\n",
       "Divorciado(a)    565.23\n",
       "Solteiro(a)      567.90\n",
       "Uniao estavel    563.63\n",
       "Viuvo(a)         693.53\n",
       "Name: gasto_total, dtype: float64"
      ]
     },
     "execution_count": 49,
     "metadata": {},
     "output_type": "execute_result"
    }
   ],
   "source": [
    "df.groupby('estado_civil(t)')['gasto_total'].mean().round(2)"
   ]
  },
  {
   "cell_type": "code",
   "execution_count": 50,
   "id": "fed188c4-44e2-4d4b-874d-a478926f67d5",
   "metadata": {},
   "outputs": [
    {
     "data": {
      "text/html": [
       "<div>\n",
       "<style scoped>\n",
       "    .dataframe tbody tr th:only-of-type {\n",
       "        vertical-align: middle;\n",
       "    }\n",
       "\n",
       "    .dataframe tbody tr th {\n",
       "        vertical-align: top;\n",
       "    }\n",
       "\n",
       "    .dataframe thead th {\n",
       "        text-align: right;\n",
       "    }\n",
       "</style>\n",
       "<table border=\"1\" class=\"dataframe\">\n",
       "  <thead>\n",
       "    <tr style=\"text-align: right;\">\n",
       "      <th>num_filhos_em_casa</th>\n",
       "      <th>0</th>\n",
       "      <th>1</th>\n",
       "      <th>2</th>\n",
       "      <th>3</th>\n",
       "      <th>Total</th>\n",
       "    </tr>\n",
       "    <tr>\n",
       "      <th>estado_civil(t)</th>\n",
       "      <th></th>\n",
       "      <th></th>\n",
       "      <th></th>\n",
       "      <th></th>\n",
       "      <th></th>\n",
       "    </tr>\n",
       "  </thead>\n",
       "  <tbody>\n",
       "    <tr>\n",
       "      <th>Casado(a)</th>\n",
       "      <td>202</td>\n",
       "      <td>412</td>\n",
       "      <td>158</td>\n",
       "      <td>13</td>\n",
       "      <td>785</td>\n",
       "    </tr>\n",
       "    <tr>\n",
       "      <th>Divorciado(a)</th>\n",
       "      <td>53</td>\n",
       "      <td>108</td>\n",
       "      <td>48</td>\n",
       "      <td>5</td>\n",
       "      <td>214</td>\n",
       "    </tr>\n",
       "    <tr>\n",
       "      <th>Solteiro(a)</th>\n",
       "      <td>154</td>\n",
       "      <td>210</td>\n",
       "      <td>66</td>\n",
       "      <td>13</td>\n",
       "      <td>443</td>\n",
       "    </tr>\n",
       "    <tr>\n",
       "      <th>Uniao estavel</th>\n",
       "      <td>133</td>\n",
       "      <td>266</td>\n",
       "      <td>96</td>\n",
       "      <td>14</td>\n",
       "      <td>509</td>\n",
       "    </tr>\n",
       "    <tr>\n",
       "      <th>Viuvo(a)</th>\n",
       "      <td>25</td>\n",
       "      <td>31</td>\n",
       "      <td>14</td>\n",
       "      <td>0</td>\n",
       "      <td>70</td>\n",
       "    </tr>\n",
       "    <tr>\n",
       "      <th>Total</th>\n",
       "      <td>567</td>\n",
       "      <td>1027</td>\n",
       "      <td>382</td>\n",
       "      <td>45</td>\n",
       "      <td>2021</td>\n",
       "    </tr>\n",
       "  </tbody>\n",
       "</table>\n",
       "</div>"
      ],
      "text/plain": [
       "num_filhos_em_casa    0     1    2   3  Total\n",
       "estado_civil(t)                              \n",
       "Casado(a)           202   412  158  13    785\n",
       "Divorciado(a)        53   108   48   5    214\n",
       "Solteiro(a)         154   210   66  13    443\n",
       "Uniao estavel       133   266   96  14    509\n",
       "Viuvo(a)             25    31   14   0     70\n",
       "Total               567  1027  382  45   2021"
      ]
     },
     "execution_count": 50,
     "metadata": {},
     "output_type": "execute_result"
    }
   ],
   "source": [
    "pd.crosstab(df['estado_civil(t)'], df['num_filhos_em_casa'], margins=True, margins_name=\"Total\")"
   ]
  },
  {
   "cell_type": "code",
   "execution_count": 51,
   "id": "a3c13607-477e-43d8-9ba6-1201e0c5e123",
   "metadata": {},
   "outputs": [
    {
     "data": {
      "text/html": [
       "<div>\n",
       "<style scoped>\n",
       "    .dataframe tbody tr th:only-of-type {\n",
       "        vertical-align: middle;\n",
       "    }\n",
       "\n",
       "    .dataframe tbody tr th {\n",
       "        vertical-align: top;\n",
       "    }\n",
       "\n",
       "    .dataframe thead th {\n",
       "        text-align: right;\n",
       "    }\n",
       "</style>\n",
       "<table border=\"1\" class=\"dataframe\">\n",
       "  <thead>\n",
       "    <tr style=\"text-align: right;\">\n",
       "      <th>num_filhos_em_casa</th>\n",
       "      <th>0</th>\n",
       "      <th>1</th>\n",
       "      <th>2</th>\n",
       "      <th>3</th>\n",
       "      <th>Total</th>\n",
       "    </tr>\n",
       "    <tr>\n",
       "      <th>estado_civil(t)</th>\n",
       "      <th></th>\n",
       "      <th></th>\n",
       "      <th></th>\n",
       "      <th></th>\n",
       "      <th></th>\n",
       "    </tr>\n",
       "  </thead>\n",
       "  <tbody>\n",
       "    <tr>\n",
       "      <th>Casado(a)</th>\n",
       "      <td>10.0</td>\n",
       "      <td>20.4</td>\n",
       "      <td>7.8</td>\n",
       "      <td>0.6</td>\n",
       "      <td>38.8</td>\n",
       "    </tr>\n",
       "    <tr>\n",
       "      <th>Divorciado(a)</th>\n",
       "      <td>2.6</td>\n",
       "      <td>5.3</td>\n",
       "      <td>2.4</td>\n",
       "      <td>0.2</td>\n",
       "      <td>10.6</td>\n",
       "    </tr>\n",
       "    <tr>\n",
       "      <th>Solteiro(a)</th>\n",
       "      <td>7.6</td>\n",
       "      <td>10.4</td>\n",
       "      <td>3.3</td>\n",
       "      <td>0.6</td>\n",
       "      <td>21.9</td>\n",
       "    </tr>\n",
       "    <tr>\n",
       "      <th>Uniao estavel</th>\n",
       "      <td>6.6</td>\n",
       "      <td>13.2</td>\n",
       "      <td>4.8</td>\n",
       "      <td>0.7</td>\n",
       "      <td>25.2</td>\n",
       "    </tr>\n",
       "    <tr>\n",
       "      <th>Viuvo(a)</th>\n",
       "      <td>1.2</td>\n",
       "      <td>1.5</td>\n",
       "      <td>0.7</td>\n",
       "      <td>0.0</td>\n",
       "      <td>3.5</td>\n",
       "    </tr>\n",
       "    <tr>\n",
       "      <th>Total</th>\n",
       "      <td>28.1</td>\n",
       "      <td>50.8</td>\n",
       "      <td>18.9</td>\n",
       "      <td>2.2</td>\n",
       "      <td>100.0</td>\n",
       "    </tr>\n",
       "  </tbody>\n",
       "</table>\n",
       "</div>"
      ],
      "text/plain": [
       "num_filhos_em_casa     0     1     2    3  Total\n",
       "estado_civil(t)                                 \n",
       "Casado(a)           10.0  20.4   7.8  0.6   38.8\n",
       "Divorciado(a)        2.6   5.3   2.4  0.2   10.6\n",
       "Solteiro(a)          7.6  10.4   3.3  0.6   21.9\n",
       "Uniao estavel        6.6  13.2   4.8  0.7   25.2\n",
       "Viuvo(a)             1.2   1.5   0.7  0.0    3.5\n",
       "Total               28.1  50.8  18.9  2.2  100.0"
      ]
     },
     "execution_count": 51,
     "metadata": {},
     "output_type": "execute_result"
    }
   ],
   "source": [
    "pd.crosstab(\n",
    "    df['estado_civil(t)'],\n",
    "    df['num_filhos_em_casa'],\n",
    "    normalize=True,\n",
    "    margins=True,\n",
    "    margins_name=\"Total\"\n",
    ").mul(100).round(1)"
   ]
  },
  {
   "cell_type": "code",
   "execution_count": 52,
   "id": "f77a850d-603d-4b86-a547-da658a44dcce",
   "metadata": {},
   "outputs": [
    {
     "data": {
      "text/plain": [
       "<Axes: xlabel='estado_civil(t)', ylabel='gasto_total'>"
      ]
     },
     "execution_count": 52,
     "metadata": {},
     "output_type": "execute_result"
    },
    {
     "data": {
      "image/png": "[encoded data removed]",
      "text/plain": [
       "<Figure size 640x480 with 1 Axes>"
      ]
     },
     "metadata": {},
     "output_type": "display_data"
    }
   ],
   "source": [
    "sns.boxplot(x='estado_civil(t)', y='gasto_total', data=df)"
   ]
  },
  {
   "cell_type": "code",
   "execution_count": 53,
   "id": "e227401e-434c-4d5a-a9e2-80185928cccb",
   "metadata": {},
   "outputs": [
    {
     "data": {
      "text/html": [
       "<div>\n",
       "<style scoped>\n",
       "    .dataframe tbody tr th:only-of-type {\n",
       "        vertical-align: middle;\n",
       "    }\n",
       "\n",
       "    .dataframe tbody tr th {\n",
       "        vertical-align: top;\n",
       "    }\n",
       "\n",
       "    .dataframe thead th {\n",
       "        text-align: right;\n",
       "    }\n",
       "</style>\n",
       "<table border=\"1\" class=\"dataframe\">\n",
       "  <thead>\n",
       "    <tr style=\"text-align: right;\">\n",
       "      <th></th>\n",
       "      <th>Média</th>\n",
       "    </tr>\n",
       "  </thead>\n",
       "  <tbody>\n",
       "    <tr>\n",
       "      <th>Site</th>\n",
       "      <td>4.115289</td>\n",
       "    </tr>\n",
       "    <tr>\n",
       "      <th>Loja</th>\n",
       "      <td>5.807521</td>\n",
       "    </tr>\n",
       "  </tbody>\n",
       "</table>\n",
       "</div>"
      ],
      "text/plain": [
       "         Média\n",
       "Site  4.115289\n",
       "Loja  5.807521"
      ]
     },
     "execution_count": 53,
     "metadata": {},
     "output_type": "execute_result"
    }
   ],
   "source": [
    "média_canais = pd.DataFrame({\n",
    "    'Média': [df['num_compras_site'].mean(), \n",
    "              df['num_compras_loja'].mean()]\n",
    "}, index=['Site', 'Loja'])\n",
    "\n",
    "média_canais"
   ]
  },
  {
   "cell_type": "code",
   "execution_count": 54,
   "id": "aa3acbc5-89e0-4e00-9a55-d0f69782c025",
   "metadata": {},
   "outputs": [
    {
     "data": {
      "text/html": [
       "<div>\n",
       "<style scoped>\n",
       "    .dataframe tbody tr th:only-of-type {\n",
       "        vertical-align: middle;\n",
       "    }\n",
       "\n",
       "    .dataframe tbody tr th {\n",
       "        vertical-align: top;\n",
       "    }\n",
       "\n",
       "    .dataframe thead th {\n",
       "        text-align: right;\n",
       "    }\n",
       "</style>\n",
       "<table border=\"1\" class=\"dataframe\">\n",
       "  <thead>\n",
       "    <tr style=\"text-align: right;\">\n",
       "      <th></th>\n",
       "      <th>Soma</th>\n",
       "    </tr>\n",
       "  </thead>\n",
       "  <tbody>\n",
       "    <tr>\n",
       "      <th>Site</th>\n",
       "      <td>8317</td>\n",
       "    </tr>\n",
       "    <tr>\n",
       "      <th>Loja</th>\n",
       "      <td>11737</td>\n",
       "    </tr>\n",
       "    <tr>\n",
       "      <th>Catalogo</th>\n",
       "      <td>5345</td>\n",
       "    </tr>\n",
       "  </tbody>\n",
       "</table>\n",
       "</div>"
      ],
      "text/plain": [
       "           Soma\n",
       "Site       8317\n",
       "Loja      11737\n",
       "Catalogo   5345"
      ]
     },
     "execution_count": 54,
     "metadata": {},
     "output_type": "execute_result"
    }
   ],
   "source": [
    "soma_canais = pd.DataFrame({\n",
    "    'Soma': [df['num_compras_site'].sum(), \n",
    "              df['num_compras_loja'].sum(),\n",
    "              df['num_compras_catalogo'].sum()]\n",
    "}, index=['Site', 'Loja', 'Catalogo'])\n",
    "\n",
    "soma_canais"
   ]
  },
  {
   "cell_type": "code",
   "execution_count": 55,
   "id": "3115e8e3-518d-49f3-aee0-07dc608e4d9b",
   "metadata": {},
   "outputs": [
    {
     "name": "stdout",
     "output_type": "stream",
     "text": [
      "Correlação de Pearson: -0.5333\n"
     ]
    }
   ],
   "source": [
    "correlacao = df['tem_filhos'].corr(df['gasto_total'])\n",
    "print(f\"Correlação de Pearson: {correlacao:.4f}\")"
   ]
  },
  {
   "cell_type": "markdown",
   "id": "310f1e33-849a-40bd-afb8-0aaefc412671",
   "metadata": {},
   "source": [
    "A correlação de Pearson entre a variável binária 'tem_filhos' e o gasto total foi de -0,54, indicando uma associação negativa moderada. Isso sugere que clientes sem filhos tendem a gastar mais do que aqueles com filhos, corroborando a análise de diferença de médias entre os grupos."
   ]
  },
  {
   "cell_type": "code",
   "execution_count": 56,
   "id": "9028422b-0851-4f6c-9112-1ce5d9a87690",
   "metadata": {},
   "outputs": [
    {
     "name": "stdout",
     "output_type": "stream",
     "text": [
      "Gasto total no canal site: R$465,214.93\n",
      "Gasto total no canal loja: R$672,274.07\n"
     ]
    }
   ],
   "source": [
    "# Total de compras (site + loja)\n",
    "df['total_compras'] = df['num_compras_site'] + df['num_compras_loja']\n",
    "\n",
    "# Filtrado apenas para cálculos que exigem pelo menos uma compra\n",
    "df_compras = df[df['total_compras'] > 0].copy()\n",
    "\n",
    "# Gasto proporcional por canal só nesse subconjunto\n",
    "df_compras['gasto_site'] = df_compras['gasto_total'] * (df_compras['num_compras_site'] / df_compras['total_compras'])\n",
    "df_compras['gasto_loja'] = df_compras['gasto_total'] * (df_compras['num_compras_loja'] / df_compras['total_compras'])\n",
    "\n",
    "# Gasto total por canal\n",
    "gasto_total_por_canal = {\n",
    "    'site': df_compras['gasto_site'].sum(),\n",
    "    'loja': df_compras['gasto_loja'].sum()\n",
    "}\n",
    "\n",
    "# Resultado\n",
    "for canal, valor in gasto_total_por_canal.items():\n",
    "    print(f\"Gasto total no canal {canal}: R${valor:,.2f}\")"
   ]
  },
  {
   "cell_type": "code",
   "execution_count": 57,
   "id": "2001a48e-6d88-4aa2-9c1c-d9428d2180cf",
   "metadata": {},
   "outputs": [
    {
     "name": "stdout",
     "output_type": "stream",
     "text": [
      "Ticket médio site: R$55.94\n",
      "Ticket médio loja: R$57.28\n"
     ]
    }
   ],
   "source": [
    "ticket_medio_site = gasto_total_por_canal['site'] / df_compras['num_compras_site'].sum()\n",
    "ticket_medio_loja = gasto_total_por_canal['loja'] / df_compras['num_compras_loja'].sum()\n",
    "\n",
    "print(f\"Ticket médio site: R${ticket_medio_site:,.2f}\")\n",
    "print(f\"Ticket médio loja: R${ticket_medio_loja:,.2f}\")"
   ]
  },
  {
   "cell_type": "code",
   "execution_count": 58,
   "id": "f2e3bb35-dacd-40df-8c84-03b3c500a568",
   "metadata": {},
   "outputs": [
    {
     "data": {
      "text/html": [
       "<div>\n",
       "<style scoped>\n",
       "    .dataframe tbody tr th:only-of-type {\n",
       "        vertical-align: middle;\n",
       "    }\n",
       "\n",
       "    .dataframe tbody tr th {\n",
       "        vertical-align: top;\n",
       "    }\n",
       "\n",
       "    .dataframe thead th {\n",
       "        text-align: right;\n",
       "    }\n",
       "</style>\n",
       "<table border=\"1\" class=\"dataframe\">\n",
       "  <thead>\n",
       "    <tr style=\"text-align: right;\">\n",
       "      <th></th>\n",
       "      <th>renda</th>\n",
       "      <th>gasto_total</th>\n",
       "      <th>num_filhos_em_casa</th>\n",
       "    </tr>\n",
       "  </thead>\n",
       "  <tbody>\n",
       "    <tr>\n",
       "      <th>1385</th>\n",
       "      <td>87679.0</td>\n",
       "      <td>2491</td>\n",
       "      <td>0</td>\n",
       "    </tr>\n",
       "    <tr>\n",
       "      <th>1112</th>\n",
       "      <td>90638.0</td>\n",
       "      <td>2429</td>\n",
       "      <td>0</td>\n",
       "    </tr>\n",
       "    <tr>\n",
       "      <th>1453</th>\n",
       "      <td>90638.0</td>\n",
       "      <td>2429</td>\n",
       "      <td>0</td>\n",
       "    </tr>\n",
       "    <tr>\n",
       "      <th>933</th>\n",
       "      <td>75759.0</td>\n",
       "      <td>2304</td>\n",
       "      <td>0</td>\n",
       "    </tr>\n",
       "    <tr>\n",
       "      <th>1356</th>\n",
       "      <td>93790.0</td>\n",
       "      <td>2304</td>\n",
       "      <td>0</td>\n",
       "    </tr>\n",
       "    <tr>\n",
       "      <th>993</th>\n",
       "      <td>69098.0</td>\n",
       "      <td>2262</td>\n",
       "      <td>0</td>\n",
       "    </tr>\n",
       "    <tr>\n",
       "      <th>1477</th>\n",
       "      <td>90226.0</td>\n",
       "      <td>2244</td>\n",
       "      <td>0</td>\n",
       "    </tr>\n",
       "    <tr>\n",
       "      <th>1607</th>\n",
       "      <td>80360.0</td>\n",
       "      <td>2188</td>\n",
       "      <td>0</td>\n",
       "    </tr>\n",
       "    <tr>\n",
       "      <th>1815</th>\n",
       "      <td>91712.0</td>\n",
       "      <td>2169</td>\n",
       "      <td>0</td>\n",
       "    </tr>\n",
       "    <tr>\n",
       "      <th>71</th>\n",
       "      <td>75825.0</td>\n",
       "      <td>2158</td>\n",
       "      <td>0</td>\n",
       "    </tr>\n",
       "  </tbody>\n",
       "</table>\n",
       "</div>"
      ],
      "text/plain": [
       "        renda  gasto_total  num_filhos_em_casa\n",
       "1385  87679.0         2491                   0\n",
       "1112  90638.0         2429                   0\n",
       "1453  90638.0         2429                   0\n",
       "933   75759.0         2304                   0\n",
       "1356  93790.0         2304                   0\n",
       "993   69098.0         2262                   0\n",
       "1477  90226.0         2244                   0\n",
       "1607  80360.0         2188                   0\n",
       "1815  91712.0         2169                   0\n",
       "71    75825.0         2158                   0"
      ]
     },
     "execution_count": 58,
     "metadata": {},
     "output_type": "execute_result"
    }
   ],
   "source": [
    "top10 = df.nlargest(10, 'gasto_total')[['renda', 'gasto_total', 'num_filhos_em_casa']]\n",
    "\n",
    "top10"
   ]
  },
  {
   "cell_type": "code",
   "execution_count": 59,
   "id": "d17fe40f-86a6-4766-bc70-a3335284216d",
   "metadata": {},
   "outputs": [
    {
     "data": {
      "text/plain": [
       "tem_filhos\n",
       "0    1056.282187\n",
       "1     371.737276\n",
       "Name: gasto_total, dtype: float64"
      ]
     },
     "execution_count": 59,
     "metadata": {},
     "output_type": "execute_result"
    }
   ],
   "source": [
    "ticket_medio_simples = df.groupby('tem_filhos')['gasto_total'].mean()\n",
    "\n",
    "ticket_medio_simples"
   ]
  },
  {
   "cell_type": "code",
   "execution_count": 60,
   "id": "547f05d8-f313-462a-ba8b-68d18acb65ce",
   "metadata": {},
   "outputs": [
    {
     "data": {
      "text/plain": [
       "tem_filhos\n",
       "0    65654.96\n",
       "1    46240.43\n",
       "Name: renda, dtype: float64"
      ]
     },
     "execution_count": 60,
     "metadata": {},
     "output_type": "execute_result"
    }
   ],
   "source": [
    "df.groupby('tem_filhos')['renda'].mean().round(2)"
   ]
  },
  {
   "cell_type": "code",
   "execution_count": 61,
   "id": "715793c9-1a90-411a-8285-89a1d3f608e3",
   "metadata": {},
   "outputs": [
    {
     "data": {
      "text/plain": [
       "<Axes: xlabel='tem_filhos', ylabel='gasto_total'>"
      ]
     },
     "execution_count": 61,
     "metadata": {},
     "output_type": "execute_result"
    },
    {
     "data": {
      "image/png": "[encoded data removed]",
      "text/plain": [
       "<Figure size 640x480 with 1 Axes>"
      ]
     },
     "metadata": {},
     "output_type": "display_data"
    }
   ],
   "source": [
    "sns.boxplot(x='tem_filhos', y='gasto_total', data=df)"
   ]
  },
  {
   "cell_type": "markdown",
   "id": "6c915087-070c-471b-bc41-45c0ccaffa81",
   "metadata": {},
   "source": [
    "# Insight\r\n",
    "Embora o número de pessoas sem filhos seja aproximadamente metade do número de pessoas com filhos em nossa base, observamos que o gasto médio dos clientes sem filhos é quase **três vezes maior**.  \r\n",
    "\r\n",
    "Esse resultado sugere perfis de consumo bastante distintos entre os dois grupos.\r\n",
    "\r\n",
    "---\r\n",
    "\r\n",
    "### Hipóteses\r\n",
    "\r\n",
    "- **Hipótese nula (H₀):** A média do gasto total de pessoas com filhos é igual à média do gasto total de pessoas sem filhos.  \r\n",
    "- **Hipótese alternativa (H₁):** Existe diferença significativa entre as médias de gasto total dos dois grupos.\r\n",
    "\r\n",
    "---\r\n",
    "\r\n",
    "### Critério para decisão\r\n",
    "\r\n",
    "- Se **p < 0.05** → Rejeitamos H₀ → Existe diferença estatisticamente significativa.  \r\n",
    "- Se **p ≥ 0.05** → Não rejeitamos H₀ → Não há evidência estatística suficiente para afirmar diferença.\r\n",
    "\r\n",
    "---\n",
    "\n",
    "# Vamos aos testes:"
   ]
  },
  {
   "cell_type": "code",
   "execution_count": 62,
   "id": "7473bbe8-0dfc-41cd-ba34-9ee8300170c0",
   "metadata": {},
   "outputs": [
    {
     "name": "stdout",
     "output_type": "stream",
     "text": [
      "Teste de Shapiro-Wilk\n",
      "estatistica_sw=0.959\n",
      "Sem filhos não segue uma distribuição normal (valor p: 0.000)\n",
      "estatistica_sw=0.808\n",
      "Com filhos não segue uma distribuição normal (valor p: 0.000)\n"
     ]
    }
   ],
   "source": [
    "# Separar os grupos\n",
    "grupo_sem_filhos = df[df['tem_filhos'] == 0]['gasto_total']\n",
    "grupo_com_filhos = df[df['tem_filhos'] == 1]['gasto_total']\n",
    "\n",
    "\n",
    "df_teste = pd.DataFrame({\n",
    "    'Sem filhos': grupo_sem_filhos,\n",
    "    'Com filhos': grupo_com_filhos\n",
    "})\n",
    "\n",
    "analise_shapiro(df_teste)"
   ]
  },
  {
   "cell_type": "markdown",
   "id": "d7ecd196-b5a5-4dd9-b83c-bae599c67325",
   "metadata": {},
   "source": [
    "## Teste de Normalidade (Shapiro-Wilk)\r\n",
    "\r\n",
    "Aplicamos o teste de Shapiro-Wilk para avaliar se a variável `gasto_total`, dentro de cada grupo (com e sem filhos), segue uma distribuição norma.\r\n",
    "\r\n",
    "- O p-valor foi inferior a **0.0001** para ambos os grupos.  \r\n",
    "- Portanto, **rejeitamos a hipótese nula de normalidade**.\r\n",
    "\r\n",
    "### Conclusão:\r\n",
    "Os dados **não seguem uma distribuição normal**.\r\n",
    "\r\n",
    "---"
   ]
  },
  {
   "cell_type": "code",
   "execution_count": 63,
   "id": "4fa5034c-5612-407e-bc7f-003a94079956",
   "metadata": {},
   "outputs": [
    {
     "name": "stdout",
     "output_type": "stream",
     "text": [
      "Teste de Levene\n",
      "estatistica_levene=149.108\n",
      "Ao menos uma variância é diferente (valor p: 0.000)\n"
     ]
    }
   ],
   "source": [
    "analise_levene(df_teste)"
   ]
  },
  {
   "cell_type": "markdown",
   "id": "12726c9e-aa7a-436e-af4f-c951116ac36a",
   "metadata": {},
   "source": [
    "### Teste de Homogeneidade de Variância (Levene)\r\n",
    "\r\n",
    "Este teste avalia se os grupos possuem variâncias semelhantes — condição necessária para uso do teste t com variâncias iguais.\r\n",
    "\r\n",
    "- O p-valor também foi inferior a **0.0001**, indicando que as variâncias são significativamente diferentes.\r\n",
    "\r\n",
    "### Conclusão:\r\n",
    "Não podemos assumir **homogeneidade de variância** entre os grupos.\r\n",
    "\r\n",
    "---"
   ]
  },
  {
   "cell_type": "code",
   "execution_count": 64,
   "id": "12c51e2b-6072-436d-ad2f-488598ff5c03",
   "metadata": {},
   "outputs": [
    {
     "name": "stdout",
     "output_type": "stream",
     "text": [
      "Teste de Mann-Whitney\n",
      "estatistica_mw=661685.000\n",
      "Rejeita a hipótese nula (valor p: 0.000)\n"
     ]
    }
   ],
   "source": [
    "analise_mannwhitneyu(df_teste)"
   ]
  },
  {
   "cell_type": "markdown",
   "id": "c8696404-8c90-4813-98ec-7bc4cdf37b62",
   "metadata": {},
   "source": [
    "## Escolha do Teste Estatístico\r\n",
    "\r\n",
    "Como estamos comparando o gasto total entre **dois grupos independentes**, as opções clássicas seriam:\r\n",
    "\r\n",
    "- **Teste t de Student**, que exige:\r\n",
    "  - Normalidade\r\n",
    "  - Homogeneidade de variâncias\r\n",
    "\r\n",
    "Como **nenhum dos pressupostos foi atendido**, optamos pelo **teste não paramétrico de Mann-Whitney U**, que:\r\n",
    "\r\n",
    "- Compara se uma amostra tende a ter valores maiores ou menores que a outra\r\n",
    "- É apropriado para **duas amostras independentes com distribuições não normais**\r\n",
    "- **Não exige variâncias iguais**\r\n",
    "\r\n",
    "> Utilizamos a **hipótese alternativa bicaudal (two-sided)**, que verifica se existe **qualquer diferença significativa** entre os grupos, independentemente da direção.\r\n",
    "\r\n",
    "---\r\n",
    "\r\n",
    "## Resultado do Teste\r\n",
    "\r\n",
    "- O **teste de Mann-Whitney U** resultou em um **p-valor < 0.05**, indicando que a diferença observada **é estatisticamente significativa**.\r\n",
    "\r\n",
    "---\r\n",
    "\r\n",
    "## Conclusão Final\r\n",
    "\r\n",
    "Rejeitamos a hipótese nula. Com **95% de confiança**, concluímos que **clientes com e sem filhos apresentam diferenças estatisticamente significativas nos seus gastos totais**.\r\n",
    "\r\n",
    "Em termos práticos:\r\n",
    "- **Clientes sem filhos tendem a gastar mais**\r\n",
    "- Essa diferença representa **perfis de consumo distintos**, o que pode embasar estratégias diferenciadas de marketing e segmentação.\r\n",
    "\r\n",
    "---"
   ]
  }
 ],
 "metadata": {
  "kernelspec": {
   "display_name": "github_projeto1",
   "language": "python",
   "name": "github_projeto1"
  },
  "language_info": {
   "codemirror_mode": {
    "name": "ipython",
    "version": 3
   },
   "file_extension": ".py",
   "mimetype": "text/x-python",
   "name": "python",
   "nbconvert_exporter": "python",
   "pygments_lexer": "ipython3",
   "version": "3.13.5"
  }
 },
 "nbformat": 4,
 "nbformat_minor": 5
}
